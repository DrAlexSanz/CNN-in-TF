{
  "nbformat": 4,
  "nbformat_minor": 0,
  "metadata": {
    "colab": {
      "name": "CNN in Tensorlow",
      "version": "0.3.2",
      "provenance": [],
      "collapsed_sections": [],
      "include_colab_link": true
    },
    "kernelspec": {
      "name": "python3",
      "display_name": "Python 3"
    }
  },
  "cells": [
    {
      "cell_type": "markdown",
      "metadata": {
        "id": "view-in-github",
        "colab_type": "text"
      },
      "source": [
        "<a href=\"https://colab.research.google.com/github/DrAlexSanz/CNN-in-TF/blob/master/CNN_in_Tensorlow.ipynb\" target=\"_parent\"><img src=\"https://colab.research.google.com/assets/colab-badge.svg\" alt=\"Open In Colab\"/></a>"
      ]
    },
    {
      "cell_type": "markdown",
      "metadata": {
        "id": "peKcyDNcbTMh",
        "colab_type": "text"
      },
      "source": [
        "This notebook contains the implementation of a fully working CNN in Tensorflow. Not in pure Python."
      ]
    },
    {
      "cell_type": "code",
      "metadata": {
        "id": "Nb9FlQeUbSpA",
        "colab_type": "code",
        "colab": {}
      },
      "source": [
        "import math\n",
        "import numpy as np\n",
        "import h5py\n",
        "import matplotlib.pyplot as plt\n",
        "import scipy\n",
        "from PIL import Image #Image tools\n",
        "import tensorflow as tf #It's a tf notebook after all\n",
        "# from cnn_utils import *\n",
        "\n",
        "%matplotlib inline\n",
        "\n",
        "np.random.seed(1)"
      ],
      "execution_count": 0,
      "outputs": []
    },
    {
      "cell_type": "markdown",
      "metadata": {
        "id": "mEAnwc-Cf-8E",
        "colab_type": "text"
      },
      "source": [
        "Load the data, I have already done this dataset in some other notebook."
      ]
    },
    {
      "cell_type": "code",
      "metadata": {
        "id": "DMaPDbmUj9yS",
        "colab_type": "code",
        "colab": {
          "base_uri": "https://localhost:8080/",
          "height": 119
        },
        "outputId": "324c997a-2230-4eba-d1db-8124a1fc0157"
      },
      "source": [
        "#First remove the folder and everything it contains.\n",
        "\n",
        "!rm -rf CNN-in-TF\n",
        "\n",
        "#Now I clone the repository and everything works.\n",
        "\n",
        "! git clone https://github.com/DrAlexSanz/CNN-in-TF.git"
      ],
      "execution_count": 74,
      "outputs": [
        {
          "output_type": "stream",
          "text": [
            "Cloning into 'CNN-in-TF'...\n",
            "remote: Enumerating objects: 8, done.\u001b[K\n",
            "remote: Counting objects: 100% (8/8), done.\u001b[K\n",
            "remote: Compressing objects: 100% (8/8), done.\u001b[K\n",
            "remote: Total 8 (delta 1), reused 0 (delta 0), pack-reused 0\u001b[K\n",
            "Unpacking objects: 100% (8/8), done.\n"
          ],
          "name": "stdout"
        }
      ]
    },
    {
      "cell_type": "code",
      "metadata": {
        "id": "VYblE9ZLbLnw",
        "colab_type": "code",
        "colab": {
          "base_uri": "https://localhost:8080/",
          "height": 34
        },
        "outputId": "eb6b1107-3b7d-4afc-ce1b-4c9b15e78f4d"
      },
      "source": [
        "# train_X_orig, train_Y_orig, test_X_orig, test_Y_orig = load_dataset()\n",
        "\n",
        "with h5py.File(\"CNN-in-TF/test_signs.h5\") as test:\n",
        "  test_x_1 = np.array(test[\"test_set_x\"][:]) # your train set features\n",
        "  test_y_1 = np.array(test[\"test_set_y\"][:]) # your train set labels\n",
        "  classes = np.array(test[\"list_classes\"][:]) # the list of classes\n",
        "\n",
        "with h5py.File(\"CNN-in-TF/train_signs.h5\") as train:\n",
        "  train_x_1 = np.array(train[\"train_set_x\"][:]) # train set features\n",
        "  train_y_1 = np.array(train[\"train_set_y\"][:]) # train set labels\n",
        "\n",
        "print(\"Everything loaded and imported\")\n",
        "\n"
      ],
      "execution_count": 75,
      "outputs": [
        {
          "output_type": "stream",
          "text": [
            "Everything loaded and imported\n"
          ],
          "name": "stdout"
        }
      ]
    },
    {
      "cell_type": "markdown",
      "metadata": {
        "id": "IKCkqQL-1_CP",
        "colab_type": "text"
      },
      "source": [
        "Now I am going to check that I can see the images."
      ]
    },
    {
      "cell_type": "code",
      "metadata": {
        "id": "iYnmr5JP1SlZ",
        "colab_type": "code",
        "colab": {
          "base_uri": "https://localhost:8080/",
          "height": 286
        },
        "outputId": "69c57651-1bd7-427e-d0eb-98f8b2236ccc"
      },
      "source": [
        "plt.imshow(train_x_1[645])\n",
        "print(\"y = \" + str(train_y_1[645 ]))"
      ],
      "execution_count": 76,
      "outputs": [
        {
          "output_type": "stream",
          "text": [
            "y = 2\n"
          ],
          "name": "stdout"
        },
        {
          "output_type": "display_data",
          "data": {
            "image/png": "[encoded data removed]",
            "text/plain": [
              "<Figure size 432x288 with 1 Axes>"
            ]
          },
          "metadata": {
            "tags": []
          }
        }
      ]
    },
    {
      "cell_type": "markdown",
      "metadata": {
        "id": "ciZsqtA42Ibz",
        "colab_type": "text"
      },
      "source": [
        "Now normalize and get the shapes of the dataset. Convert Y to one hot encoding. I could classify without it but I will use a softmax in the last layer, to predict [1,0,0,0,0] using a softmax function. Other than that, I could not transform it and then use an if-elif statement at the end, like my own softmax."
      ]
    },
    {
      "cell_type": "code",
      "metadata": {
        "id": "I4EJcyEq2H88",
        "colab_type": "code",
        "colab": {}
      },
      "source": [
        "train_x = train_x_1/255\n",
        "test_x = test_x_1/255\n",
        "\n",
        "#One hot encoding by hand. I find it's a neat solution\n",
        "\n",
        "n_classes = 5\n",
        "\n",
        "# If I use a library, like sklearn or TF, I will fit it with the train set, and then transform BOTH, to ensure that every class is mapped consistently\n",
        "\n",
        "#Explanation: create a nxn Identity matrix. Take the nth row. I had to write this down, it's not easy to see off the top of my head.\n",
        "\n",
        "train_y = np.eye(n_classes+1)[train_y_1.reshape(-1)]\n",
        "test_y = np.eye(n_classes+1)[test_y_1.reshape(-1)]\n",
        "\n",
        "\n",
        "\n"
      ],
      "execution_count": 0,
      "outputs": []
    },
    {
      "cell_type": "markdown",
      "metadata": {
        "id": "TcrEPCspDYa9",
        "colab_type": "text"
      },
      "source": [
        "I need to know and check the shapes, for the placeholders and tensors later."
      ]
    },
    {
      "cell_type": "code",
      "metadata": {
        "id": "JlD74HG-97jf",
        "colab_type": "code",
        "colab": {
          "base_uri": "https://localhost:8080/",
          "height": 119
        },
        "outputId": "04713a6b-1dfc-4d2d-bafa-d58c762513de"
      },
      "source": [
        "print(\"Number of train examples is: \" + str(train_x.shape[0]))\n",
        "print(\"Dimensions of train pictures is: \" + str(train_x.shape))\n",
        "\n",
        "print(\"Number of test examples is: \" + str(test_x.shape[0]))\n",
        "print(\"Dimensions of test pictures is: \" + str(test_x.shape))\n",
        "\n",
        "print(\"The shape of the train labels is: \" + str(train_y.shape))\n",
        "print(\"The shape of the test labels is: \" + str(test_y.shape))"
      ],
      "execution_count": 78,
      "outputs": [
        {
          "output_type": "stream",
          "text": [
            "Number of train examples is: 1080\n",
            "Dimensions of train pictures is: (1080, 64, 64, 3)\n",
            "Number of test examples is: 120\n",
            "Dimensions of test pictures is: (120, 64, 64, 3)\n",
            "The shape of the train labels is: (1080, 6)\n",
            "The shape of the test labels is: (120, 6)\n"
          ],
          "name": "stdout"
        }
      ]
    },
    {
      "cell_type": "markdown",
      "metadata": {
        "id": "Vavyo-VpFUAD",
        "colab_type": "text"
      },
      "source": [
        "Now I will make a function to create the placeholders, another to initialize the weights, another one to do the forward pass (the only one I need in tensorflow), and another to split in minibatches. Like this I can comment it out to see what happens with a full batch."
      ]
    },
    {
      "cell_type": "code",
      "metadata": {
        "id": "1PScTa3tFu12",
        "colab_type": "code",
        "colab": {}
      },
      "source": [
        "def create_placeholders(height, width, channels, n_classes):\n",
        "    \"\"\"\n",
        "    the first three parameters are the dimensions of the pictures, and the last\n",
        "    is the number of classes\n",
        "    \n",
        "    returns X and Y, two placeholders for the input and output  \n",
        "    \"\"\"\n",
        "    \n",
        "    X = tf.placeholder(tf.float32, name = \"X\", shape = [None, height, width, channels])\n",
        "    Y = tf.placeholder(tf.float32, name = \"Y\", shape = [None, n_classes])\n",
        "    \n",
        "    # Remember, None allows me not to decide the shape now, so I can change the batch size\n",
        "    \n",
        "    return X,Y"
      ],
      "execution_count": 0,
      "outputs": []
    },
    {
      "cell_type": "code",
      "metadata": {
        "id": "1sI_AYnFGo_q",
        "colab_type": "code",
        "colab": {
          "base_uri": "https://localhost:8080/",
          "height": 51
        },
        "outputId": "4de1f7b5-3427-49e4-c6fe-f26b46bb9e6f"
      },
      "source": [
        "#Check\n",
        "\n",
        "X, Y = create_placeholders(64, 64, 3, 13)\n",
        "\n",
        "print(\"X = \" + str(X))\n",
        "print(\"Y = \" + str(Y))"
      ],
      "execution_count": 80,
      "outputs": [
        {
          "output_type": "stream",
          "text": [
            "X = Tensor(\"X_2:0\", shape=(?, 64, 64, 3), dtype=float32)\n",
            "Y = Tensor(\"Y_2:0\", shape=(?, 13), dtype=float32)\n"
          ],
          "name": "stdout"
        }
      ]
    },
    {
      "cell_type": "markdown",
      "metadata": {
        "id": "fLwxCV9GKkIL",
        "colab_type": "text"
      },
      "source": [
        "Now I have to initialize the weights. I use Xavier initialitation. I could also use He or random. This is not so relevant, it's just a starting point for the gradient descent."
      ]
    }
  ]
}