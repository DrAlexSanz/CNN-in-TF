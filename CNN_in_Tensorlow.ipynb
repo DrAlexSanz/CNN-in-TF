{
  "nbformat": 4,
  "nbformat_minor": 0,
  "metadata": {
    "colab": {
      "name": "CNN in Tensorlow",
      "version": "0.3.2",
      "provenance": [],
      "collapsed_sections": [],
      "include_colab_link": true
    },
    "kernelspec": {
      "name": "python3",
      "display_name": "Python 3"
    },
    "accelerator": "TPU"
  },
  "cells": [
    {
      "cell_type": "markdown",
      "metadata": {
        "id": "view-in-github",
        "colab_type": "text"
      },
      "source": [
        "<a href=\"https://colab.research.google.com/github/DrAlexSanz/CNN-in-TF/blob/master/CNN_in_Tensorlow.ipynb\" target=\"_parent\"><img src=\"https://colab.research.google.com/assets/colab-badge.svg\" alt=\"Open In Colab\"/></a>"
      ]
    },
    {
      "cell_type": "markdown",
      "metadata": {
        "id": "peKcyDNcbTMh",
        "colab_type": "text"
      },
      "source": [
        "This notebook contains the implementation of a fully working CNN in Tensorflow. Not in pure Python."
      ]
    },
    {
      "cell_type": "code",
      "metadata": {
        "id": "Nb9FlQeUbSpA",
        "colab_type": "code",
        "colab": {}
      },
      "source": [
        "import math\n",
        "import numpy as np\n",
        "import h5py\n",
        "import matplotlib.pyplot as plt\n",
        "import scipy\n",
        "from PIL import Image #Image tools\n",
        "import tensorflow as tf #It's a tf notebook after all\n",
        "# from cnn_utils import *\n",
        "\n",
        "%matplotlib inline\n",
        "\n",
        "np.random.seed(1)"
      ],
      "execution_count": 0,
      "outputs": []
    },
    {
      "cell_type": "markdown",
      "metadata": {
        "id": "mEAnwc-Cf-8E",
        "colab_type": "text"
      },
      "source": [
        "Load the data, I have already done this dataset in some other notebook."
      ]
    },
    {
      "cell_type": "code",
      "metadata": {
        "id": "DMaPDbmUj9yS",
        "colab_type": "code",
        "outputId": "08929aaf-d5fe-4564-aff1-cde5f146b910",
        "colab": {
          "base_uri": "https://localhost:8080/",
          "height": 119
        }
      },
      "source": [
        "#First remove the folder and everything it contains.\n",
        "\n",
        "!rm -rf CNN-in-TF\n",
        "\n",
        "#Now I clone the repository and everything works.\n",
        "\n",
        "! git clone https://github.com/DrAlexSanz/CNN-in-TF.git"
      ],
      "execution_count": 50,
      "outputs": [
        {
          "output_type": "stream",
          "text": [
            "Cloning into 'CNN-in-TF'...\n",
            "remote: Enumerating objects: 11, done.\u001b[K\n",
            "remote: Counting objects:   9% (1/11)\u001b[K\rremote: Counting objects:  18% (2/11)\u001b[K\rremote: Counting objects:  27% (3/11)\u001b[K\rremote: Counting objects:  36% (4/11)\u001b[K\rremote: Counting objects:  45% (5/11)\u001b[K\rremote: Counting objects:  54% (6/11)\u001b[K\rremote: Counting objects:  63% (7/11)\u001b[K\rremote: Counting objects:  72% (8/11)\u001b[K\rremote: Counting objects:  81% (9/11)\u001b[K\rremote: Counting objects:  90% (10/11)\u001b[K\rremote: Counting objects: 100% (11/11)\u001b[K\rremote: Counting objects: 100% (11/11), done.\u001b[K\n",
            "remote: Compressing objects: 100% (11/11), done.\u001b[K\n",
            "remote: Total 11 (delta 2), reused 0 (delta 0), pack-reused 0\u001b[K\n",
            "Unpacking objects: 100% (11/11), done.\n"
          ],
          "name": "stdout"
        }
      ]
    },
    {
      "cell_type": "code",
      "metadata": {
        "id": "VYblE9ZLbLnw",
        "colab_type": "code",
        "outputId": "95b84d80-6da6-4ac7-e75a-89a491b58c2d",
        "colab": {
          "base_uri": "https://localhost:8080/",
          "height": 34
        }
      },
      "source": [
        "# train_X_orig, train_Y_orig, test_X_orig, test_Y_orig = load_dataset()\n",
        "\n",
        "with h5py.File(\"CNN-in-TF/test_signs.h5\") as test:\n",
        "  test_x_1 = np.array(test[\"test_set_x\"][:]) # your train set features\n",
        "  test_y_1 = np.array(test[\"test_set_y\"][:]) # your train set labels\n",
        "  classes = np.array(test[\"list_classes\"][:]) # the list of classes\n",
        "\n",
        "with h5py.File(\"CNN-in-TF/train_signs.h5\") as train:\n",
        "  train_x_1 = np.array(train[\"train_set_x\"][:]) # train set features\n",
        "  train_y_1 = np.array(train[\"train_set_y\"][:]) # train set labels\n",
        "\n",
        "print(\"Everything loaded and imported\")\n",
        "\n"
      ],
      "execution_count": 51,
      "outputs": [
        {
          "output_type": "stream",
          "text": [
            "Everything loaded and imported\n"
          ],
          "name": "stdout"
        }
      ]
    },
    {
      "cell_type": "markdown",
      "metadata": {
        "id": "IKCkqQL-1_CP",
        "colab_type": "text"
      },
      "source": [
        "Now I am going to check that I can see the images."
      ]
    },
    {
      "cell_type": "code",
      "metadata": {
        "id": "iYnmr5JP1SlZ",
        "colab_type": "code",
        "outputId": "0f80da04-d841-4abf-c7dd-ccd14b021e6f",
        "colab": {
          "base_uri": "https://localhost:8080/",
          "height": 286
        }
      },
      "source": [
        "plt.imshow(train_x_1[645])\n",
        "print(\"y = \" + str(train_y_1[645 ]))"
      ],
      "execution_count": 52,
      "outputs": [
        {
          "output_type": "stream",
          "text": [
            "y = 2\n"
          ],
          "name": "stdout"
        },
        {
          "output_type": "display_data",
          "data": {
            "image/png": "[encoded data removed]",
            "text/plain": [
              "<Figure size 432x288 with 1 Axes>"
            ]
          },
          "metadata": {
            "tags": []
          }
        }
      ]
    },
    {
      "cell_type": "markdown",
      "metadata": {
        "id": "ciZsqtA42Ibz",
        "colab_type": "text"
      },
      "source": [
        "Now normalize and get the shapes of the dataset. Convert Y to one hot encoding. I could classify without it but I will use a softmax in the last layer, to predict [1,0,0,0,0] using a softmax function. Other than that, I could not transform it and then use an if-elif statement at the end, like my own softmax."
      ]
    },
    {
      "cell_type": "code",
      "metadata": {
        "id": "I4EJcyEq2H88",
        "colab_type": "code",
        "colab": {}
      },
      "source": [
        "train_x = train_x_1/255\n",
        "test_x = test_x_1/255\n",
        "\n",
        "#One hot encoding by hand. I find it's a neat solution\n",
        "\n",
        "n_classes = 5\n",
        "\n",
        "# If I use a library, like sklearn or TF, I will fit it with the train set, and then transform BOTH, to ensure that every class is mapped consistently\n",
        "\n",
        "#Explanation: create a nxn Identity matrix. Take the nth row. I had to write this down, it's not easy to see off the top of my head.\n",
        "\n",
        "train_y = np.eye(n_classes+1)[train_y_1.reshape(-1)]\n",
        "test_y = np.eye(n_classes+1)[test_y_1.reshape(-1)]\n",
        "\n",
        "\n",
        "\n"
      ],
      "execution_count": 0,
      "outputs": []
    },
    {
      "cell_type": "markdown",
      "metadata": {
        "id": "TcrEPCspDYa9",
        "colab_type": "text"
      },
      "source": [
        "I need to know and check the shapes, for the placeholders and tensors later."
      ]
    },
    {
      "cell_type": "code",
      "metadata": {
        "id": "JlD74HG-97jf",
        "colab_type": "code",
        "outputId": "5bdc0707-4dbf-4a94-d671-2370ac3d355a",
        "colab": {
          "base_uri": "https://localhost:8080/",
          "height": 119
        }
      },
      "source": [
        "print(\"Number of train examples is: \" + str(train_x.shape[0]))\n",
        "print(\"Dimensions of train pictures is: \" + str(train_x.shape))\n",
        "\n",
        "print(\"Number of test examples is: \" + str(test_x.shape[0]))\n",
        "print(\"Dimensions of test pictures is: \" + str(test_x.shape))\n",
        "\n",
        "print(\"The shape of the train labels is: \" + str(train_y.shape))\n",
        "print(\"The shape of the test labels is: \" + str(test_y.shape))"
      ],
      "execution_count": 54,
      "outputs": [
        {
          "output_type": "stream",
          "text": [
            "Number of train examples is: 1080\n",
            "Dimensions of train pictures is: (1080, 64, 64, 3)\n",
            "Number of test examples is: 120\n",
            "Dimensions of test pictures is: (120, 64, 64, 3)\n",
            "The shape of the train labels is: (1080, 6)\n",
            "The shape of the test labels is: (120, 6)\n"
          ],
          "name": "stdout"
        }
      ]
    },
    {
      "cell_type": "markdown",
      "metadata": {
        "id": "Vavyo-VpFUAD",
        "colab_type": "text"
      },
      "source": [
        "Now I will make a function to create the placeholders, another to initialize the weights, another one to do the forward pass (the only one I need in tensorflow), and another to split in minibatches. Like this I can comment it out to see what happens with a full batch."
      ]
    },
    {
      "cell_type": "code",
      "metadata": {
        "id": "1PScTa3tFu12",
        "colab_type": "code",
        "colab": {}
      },
      "source": [
        "def create_placeholders(height, width, channels, n_classes):\n",
        "    \"\"\"\n",
        "    the first three parameters are the dimensions of the pictures, and the last\n",
        "    is the number of classes\n",
        "    \n",
        "    returns X and Y, two placeholders for the input and output  \n",
        "    \"\"\"\n",
        "    \n",
        "    X = tf.placeholder(tf.float32, name = \"X\", shape = [None, height, width, channels])\n",
        "    Y = tf.placeholder(tf.float32, name = \"Y\", shape = [None, n_classes])\n",
        "    \n",
        "    # Remember, None allows me not to decide the shape now, so I can change the batch size\n",
        "    \n",
        "    return X,Y"
      ],
      "execution_count": 0,
      "outputs": []
    },
    {
      "cell_type": "code",
      "metadata": {
        "id": "1sI_AYnFGo_q",
        "colab_type": "code",
        "outputId": "80dc551a-644b-4ea9-b82b-b5dbbcf2f0b8",
        "colab": {
          "base_uri": "https://localhost:8080/",
          "height": 51
        }
      },
      "source": [
        "#Check\n",
        "\n",
        "X, Y = create_placeholders(64, 64, 3, 13)\n",
        "\n",
        "print(\"X = \" + str(X))\n",
        "print(\"Y = \" + str(Y))"
      ],
      "execution_count": 56,
      "outputs": [
        {
          "output_type": "stream",
          "text": [
            "X = Tensor(\"X_1:0\", shape=(?, 64, 64, 3), dtype=float32)\n",
            "Y = Tensor(\"Y_1:0\", shape=(?, 13), dtype=float32)\n"
          ],
          "name": "stdout"
        }
      ]
    },
    {
      "cell_type": "markdown",
      "metadata": {
        "id": "fLwxCV9GKkIL",
        "colab_type": "text"
      },
      "source": [
        "Now I have to initialize the weights. I use Xavier initialitation. I could also use He or random. This is not so relevant, it's just a starting point for the gradient descent and in this case it's not too relevant."
      ]
    },
    {
      "cell_type": "code",
      "metadata": {
        "id": "kUOg-ZW61BNi",
        "colab_type": "code",
        "colab": {}
      },
      "source": [
        "def initialize_param():  \n",
        "    \"\"\"\n",
        "    This function initializes W1 and W2, or more if I want.\n",
        "    To play a bit with the network topology it's better to use keras or my old \n",
        "    notebook with the python NN. It's much more flexible.\n",
        "    \n",
        "    The CNN part is: W1 = [4, 4, 3, 8]\n",
        "                      W2 = [2, 2, 8, 16]\n",
        "                      \n",
        "    Returns a dictionary with W1 and W2\n",
        "    \n",
        "    \"\"\"\n",
        "    \n",
        "    tf.set_random_seed(1)\n",
        "    \n",
        "    W1 = tf.get_variable(\"W1\", [4, 4, 3, 8], initializer = tf.contrib.layers.xavier_initializer(seed = 0))\n",
        "    W2 = tf.get_variable(\"W2\", [2, 2, 8, 16], initializer = tf.contrib.layers.xavier_initializer(seed = 0))\n",
        "    \n",
        "    parameters = {\"W1\": W1,\n",
        "                  \"W2\": W2}\n",
        "    \n",
        "    return parameters  \n",
        "    \n",
        "    "
      ],
      "execution_count": 0,
      "outputs": []
    },
    {
      "cell_type": "markdown",
      "metadata": {
        "id": "nDBWKshw2mVR",
        "colab_type": "text"
      },
      "source": [
        "And now check that it all works."
      ]
    },
    {
      "cell_type": "code",
      "metadata": {
        "id": "HopKZKtm2onc",
        "colab_type": "code",
        "colab": {
          "base_uri": "https://localhost:8080/",
          "height": 102
        },
        "outputId": "9c6d241c-5073-4035-aacb-870838111c2b"
      },
      "source": [
        "tf.reset_default_graph() #delete everything first\n",
        "\n",
        "with tf.Session() as sess_test:\n",
        "    parameters = initialize_param()\n",
        "    init = tf.global_variables_initializer()\n",
        "    sess_test.run(init)\n",
        "    print(\"W1 = \" + str(parameters[\"W1\"].eval()[1, 1,1]))\n",
        "    print(\"W2 = \" + str(parameters[\"W2\"].eval()[1, 1,1]))"
      ],
      "execution_count": 58,
      "outputs": [
        {
          "output_type": "stream",
          "text": [
            "W1 = [ 0.00131723  0.1417614  -0.04434952  0.09197326  0.14984085 -0.03514394\n",
            " -0.06847463  0.05245192]\n",
            "W2 = [-0.08566415  0.17750949  0.11974221  0.16773748 -0.0830943  -0.08058\n",
            " -0.00577033 -0.14643836  0.24162132 -0.05857408 -0.19055021  0.1345228\n",
            " -0.22779644 -0.1601823  -0.16117483 -0.10286498]\n"
          ],
          "name": "stdout"
        }
      ]
    },
    {
      "cell_type": "markdown",
      "metadata": {
        "id": "mxP9FO0bQ4sq",
        "colab_type": "text"
      },
      "source": [
        "Now forward propagation."
      ]
    },
    {
      "cell_type": "code",
      "metadata": {
        "id": "xSTbHoL2Q-qP",
        "colab_type": "code",
        "colab": {}
      },
      "source": [
        "def forward_prop(X, param):\n",
        "    \"\"\"\n",
        "    First, this function is the forward network. The topology is:\n",
        "    CONV -> RELU -> MAXPOOL\n",
        "    +\n",
        "    CONV -> RELU -> MAXPOOL\n",
        "    +\n",
        "    FLATTEN -> 1 layer DENSE (with linear activation)\n",
        "    \n",
        "    The input is X, the train or test samples, the parameters dict {W1, W2}\n",
        "    \n",
        "    the output is Z3, without the softmax (TF does that in the cost)\n",
        "        \n",
        "    \"\"\"\n",
        "    \n",
        "    W1 = param[\"W1\"]\n",
        "    W2 = param[\"W2\"]\n",
        "    \n",
        "#     print(W1.graph)\n",
        "#     print(W2.graph)\n",
        "#     print(X.graph)\n",
        "#     print(Y.graph)\n",
        "    \n",
        "    # Now first CONV2D\n",
        "    # First and last strides are 1 ALWAYS, the first is for the batch (convolve 1 batch each time) and the last is for colours. Convolve one colour at a time.\n",
        "    # 2 and 3 are for strides in 2D, the height and width\n",
        "    \n",
        "    Z1 = tf.nn.conv2d(X, W1, strides = [1, 1, 1, 1], padding = \"SAME\")\n",
        "    #RELU\n",
        "    \n",
        "    A1 = tf.nn.relu(Z1)\n",
        "    \n",
        "    #MAXPOOL 8x8 filter, stride 8\n",
        "    \n",
        "    P1 = tf.nn.max_pool(A1, ksize = [1, 8, 8, 1], strides = [1, 8, 8, 1], padding = \"SAME\")\n",
        "    \n",
        "    #second batch of Conv layer\n",
        "    \n",
        "    Z2 = tf.nn.conv2d(P1, W2, strides = [1, 1, 1, 1], padding = \"SAME\")\n",
        "    A2 = tf.nn.relu(Z2)\n",
        "    P2 = tf.nn.max_pool(A2, ksize = [1, 4, 4, 1], strides = [1, 4, 4, 1], padding = \"SAME\")\n",
        "    \n",
        "    # Now I flatten the output, I need to input P2 to a fully connected layer\n",
        "    \n",
        "    F = tf.contrib.layers.flatten(P2)\n",
        "    \n",
        "    # Z3 is the best Z ever!!! XD\n",
        "    \n",
        "    # F is the input, 6 is the output, 5 classes and UNK. Note activation is none\n",
        "    Z3 = tf.contrib.layers.fully_connected(F, 6, activation_fn = None)\n",
        "    \n",
        "    return Z3 \n",
        "    \n",
        "    \n",
        "    \n"
      ],
      "execution_count": 0,
      "outputs": []
    },
    {
      "cell_type": "markdown",
      "metadata": {
        "id": "xoW8E6wibj53",
        "colab_type": "text"
      },
      "source": [
        "And as usual, now I check it."
      ]
    },
    {
      "cell_type": "code",
      "metadata": {
        "id": "ZBipRUNkbpCV",
        "colab_type": "code",
        "colab": {
          "base_uri": "https://localhost:8080/",
          "height": 51
        },
        "outputId": "6f54a7f9-30ae-43fd-8b4b-3997211007fc"
      },
      "source": [
        "tf.reset_default_graph()\n",
        "\n",
        "with tf.Session() as sess1:\n",
        "    np.random.seed(1)\n",
        "    X, Y = create_placeholders(64, 64, 3, 6)\n",
        "    param = initialize_param()\n",
        "    Z3 = forward_prop(X, param)\n",
        "    init = tf.global_variables_initializer()\n",
        "    sess1.run(init)\n",
        "    aaaa = sess1.run(Z3, {X: np.random.randn(2, 64, 64, 3), Y: np.random.rand(2, 6)})\n",
        "    \n",
        "    print(\"Z3 = \" + str(aaaa))"
      ],
      "execution_count": 60,
      "outputs": [
        {
          "output_type": "stream",
          "text": [
            "Z3 = [[ 1.4416982  -0.24909668  5.4504995  -0.2618962  -0.20669872  1.3654671 ]\n",
            " [ 1.4070847  -0.02573182  5.08928    -0.4866991  -0.4094069   1.2624853 ]]\n"
          ],
          "name": "stdout"
        }
      ]
    },
    {
      "cell_type": "markdown",
      "metadata": {
        "id": "EkgUs1fAnqkK",
        "colab_type": "text"
      },
      "source": [
        "Now the cost function and this should be almost everything"
      ]
    },
    {
      "cell_type": "code",
      "metadata": {
        "id": "P9GqtPYjnudX",
        "colab_type": "code",
        "colab": {}
      },
      "source": [
        "def calc_cost(Z3, Y):\n",
        "    \"\"\"\n",
        "    This function takes the linear output, does a softmax and compute the cost\n",
        "    Y is hte labels of the samples, true ones\n",
        "    \n",
        "    returns the cost function    \n",
        "    \"\"\"\n",
        "    \n",
        "    cost = tf.nn.softmax_cross_entropy_with_logits(logits = Z3, labels = Y)\n",
        "    cost = tf.reduce_mean(cost)\n",
        "    \n",
        "    return cost"
      ],
      "execution_count": 0,
      "outputs": []
    },
    {
      "cell_type": "markdown",
      "metadata": {
        "id": "XQc-jlzGocDr",
        "colab_type": "text"
      },
      "source": [
        "And check it."
      ]
    },
    {
      "cell_type": "code",
      "metadata": {
        "id": "8YNvp9ljofWi",
        "colab_type": "code",
        "colab": {
          "base_uri": "https://localhost:8080/",
          "height": 34
        },
        "outputId": "be6020c7-94a1-4594-efb0-b5e740a882a8"
      },
      "source": [
        "tf.reset_default_graph()\n",
        "\n",
        "with tf.Session() as sess2:\n",
        "    np.random.seed(13)\n",
        "    X, Y = create_placeholders(64, 64, 3, 6)\n",
        "    param = initialize_param()\n",
        "    Z3 = forward_prop(X, param)\n",
        "    cost = calc_cost(Z3, Y)\n",
        "    init = tf.global_variables_initializer()\n",
        "    sess2.run(init)\n",
        "    aaaa = sess2.run(cost, {X: np.random.randn(4, 64, 64, 3), Y: np.random.rand(4, 6)})\n",
        "    print(\"cost = \" + str(aaaa))\n",
        "    "
      ],
      "execution_count": 62,
      "outputs": [
        {
          "output_type": "stream",
          "text": [
            "cost = 11.630613\n"
          ],
          "name": "stdout"
        }
      ]
    },
    {
      "cell_type": "markdown",
      "metadata": {
        "id": "NqZLZU-wqLmj",
        "colab_type": "text"
      },
      "source": [
        "I have to split the samples in mini batches before I forget."
      ]
    },
    {
      "cell_type": "code",
      "metadata": {
        "id": "Z2FXUQ24qQuS",
        "colab_type": "code",
        "colab": {}
      },
      "source": [
        "def split_mini_batches(X, Y, size, seed = 0):\n",
        "    \"\"\"\n",
        "    X, Y are the training X and Y.\n",
        "    size is the size of the minibatch (13 images for example). Because size matters XD.\n",
        "    seed for repeatibility\n",
        "    \n",
        "    returns a list of mini batches\n",
        "    \n",
        "    \"\"\"\n",
        "    \n",
        "    m = X.shape[0] # Number of training samples\n",
        "    mini_batches = [] # To append later\n",
        "    np.random.seed(seed)\n",
        "    \n",
        "    # First I shuffle, they may not be shuffled beforehand.\n",
        "    permutation = list(np.random.permutation(m)) # This creates a list of shuffled elements (indices)\n",
        "    \n",
        "    X_shuffle = X[permutation, :, :, :] #This is just a reordering\n",
        "    Y_shuffle = Y[permutation, :]\n",
        "    \n",
        "    # Now split\n",
        "    \n",
        "    num_complete_minis = math.floor(m/size) # So this calculates how many mini batches I will have. It's a step size.\n",
        "    \n",
        "    for i in range(0, num_complete_minis):\n",
        "        mini_X = X_shuffle[i*size : i*size + size, :, :, :] # Take a slice of size, starting from current_point to current_point+size\n",
        "        mini_Y = Y_shuffle[i*size : i*size + size, :]\n",
        "        mini_batches.append((mini_X, mini_Y))\n",
        "        \n",
        "    #Last batch\n",
        "    \n",
        "    if m % size != 0:\n",
        "        mini_X = X_shuffle[num_complete_minis*size : m, :, :, :] # Take a slice of size, starting from current_point to current_point+size\n",
        "        mini_Y = Y_shuffle[num_complete_minis*size : m, :]\n",
        "        mini_batches.append((mini_X, mini_Y))\n",
        "        \n",
        "    return mini_batches\n",
        "        "
      ],
      "execution_count": 0,
      "outputs": []
    },
    {
      "cell_type": "markdown",
      "metadata": {
        "id": "VxyCg3k7t_a1",
        "colab_type": "text"
      },
      "source": [
        "Now I will put all in a function to run the model easily."
      ]
    },
    {
      "cell_type": "code",
      "metadata": {
        "id": "HcbAFy1ZuC5M",
        "colab_type": "code",
        "colab": {}
      },
      "source": [
        "def model(X_train, Y_train, X_test, Y_test, size, lr, epochs, print_cost):\n",
        "  \"\"\"\"\n",
        "  The function takes the train and test samples, the lr, the size of the mini batches, number of epochs and the TRUE/FALSE variable to print the cost or not\n",
        "  \n",
        "  Returns:\n",
        "  train accuracy, test accuracy, parameters learnt by the model. With these I predict new pictures.\n",
        "  \n",
        "  \"\"\"\n",
        "  \n",
        "  tf.reset_default_graph() # Like this I won't overwrite when I predict\n",
        "  \n",
        "  # Get the parameters for sizes and dimensions\n",
        "  \n",
        "  (m, height, width, c) = X_train.shape\n",
        "  n_Y = Y_train.shape[1]\n",
        "  costs = []\n",
        "  seed = 0\n",
        "  \n",
        "  # Create the placeholders with the correct dimensions\n",
        "  \n",
        "  X, Y = create_placeholders(height, width, c, n_Y)\n",
        "  \n",
        "  # Initialize parameters\n",
        "  \n",
        "  params = initialize_param()\n",
        "  \n",
        "  # Do the forward prop\n",
        "  \n",
        "  Z3 = forward_prop(X, params)\n",
        "  \n",
        "  cost = calc_cost(Z3, Y)\n",
        "  \n",
        "  # BACKPROP!!! Luckily I only need the optimizer.\n",
        "  \n",
        "  optimizer = tf.train.AdamOptimizer(learning_rate = lr).minimize(cost)\n",
        "  \n",
        "  init = tf.global_variables_initializer()\n",
        "  \n",
        "  # Now start the session to start running the graph\n",
        "  \n",
        "  with tf.Session() as sess:\n",
        "      sess.run(init)\n",
        "      \n",
        "      # Training loop\n",
        "      \n",
        "      for epoch in range(epochs):\n",
        "          mini_cost = 0\n",
        "          num_minis = int(m / size)\n",
        "          seed = seed + 1\n",
        "          minibatches = split_mini_batches(X_train, Y_train, size, seed)\n",
        "          \n",
        "          for minibatch in minibatches:\n",
        "              (mini_X, mini_Y) = minibatch\n",
        "              \n",
        "              # Now I really run the optimization\n",
        "              \n",
        "              _, temp_cost = sess.run([optimizer, cost], feed_dict = {X: mini_X, Y: mini_Y})\n",
        "              \n",
        "              mini_cost = mini_cost + temp_cost / num_minis\n",
        "              \n",
        "      # Print the cost for epoch\n",
        "      \n",
        "          costs.append(mini_cost)\n",
        "          if print_cost == True and epoch % 10 == 0:\n",
        "              print(\"Cost after epoch %i: %f\" % (epoch, mini_cost))\n",
        "      \n",
        "      # Now I plot the cost evolution\n",
        "      \n",
        "      \n",
        "      print(\"The learning rate is: \", lr)\n",
        "      \n",
        "      # Now I really predict to calculate the accuracy\n",
        "      \n",
        "      predicted = tf.argmax(Z3,1)\n",
        "      correct = tf.equal(predicted, tf.argmax(Y, 1))\n",
        "      \n",
        "      # Test accuracy\n",
        "      \n",
        "      accuracy = tf.reduce_mean(tf.cast(correct, \"float\"))\n",
        "      \n",
        "      train_acc = accuracy.eval({X: X_train, Y: Y_train})\n",
        "      test_acc =accuracy.eval({X: X_test, Y: Y_test})\n",
        "      \n",
        "      print(\"Train accuracy is: \", train_acc)\n",
        "      print(\"Test accuracy is: \", test_acc)\n",
        "      \n",
        "      \n",
        "      plt.plot(costs)\n",
        "      plt.ylabel(\"Cost\")\n",
        "      plt.xlabel(\"Epoch\")\n",
        "      plt.show()\n",
        "\n",
        "      return train_acc, test_acc, params\n",
        "  \n",
        "  \n",
        "  \n",
        "  "
      ],
      "execution_count": 0,
      "outputs": []
    },
    {
      "cell_type": "markdown",
      "metadata": {
        "id": "_fDjdoFd4ebv",
        "colab_type": "text"
      },
      "source": [
        "With this I can run the model and predict. I need to define the arguments and that is it."
      ]
    },
    {
      "cell_type": "code",
      "metadata": {
        "id": "Uh9MsRCC829-",
        "colab_type": "code",
        "colab": {
          "base_uri": "https://localhost:8080/",
          "height": 34
        },
        "outputId": "40fdaf57-6c62-4566-e6b1-377501a83341"
      },
      "source": [
        "train_y.shape"
      ],
      "execution_count": 65,
      "outputs": [
        {
          "output_type": "execute_result",
          "data": {
            "text/plain": [
              "(1080, 6)"
            ]
          },
          "metadata": {
            "tags": []
          },
          "execution_count": 65
        }
      ]
    },
    {
      "cell_type": "code",
      "metadata": {
        "id": "T6w4CFnS4l-7",
        "colab_type": "code",
        "colab": {
          "base_uri": "https://localhost:8080/",
          "height": 589
        },
        "outputId": "912abbd6-25da-46ce-db7c-460d2de141f9"
      },
      "source": [
        "learn = 5e-3\n",
        "epochs = 150\n",
        "size = 32\n",
        "print_cost = True\n",
        "\n",
        "# Now I can just run the model\n",
        "\n",
        "_, _, parameters = model(train_x, train_y, test_x, test_y, size, learn, epochs, print_cost)\n",
        "\n"
      ],
      "execution_count": 67,
      "outputs": [
        {
          "output_type": "stream",
          "text": [
            "Cost after epoch 0: 1.860940\n",
            "Cost after epoch 10: 1.024096\n",
            "Cost after epoch 20: 0.777069\n",
            "Cost after epoch 30: 0.663493\n",
            "Cost after epoch 40: 0.577935\n",
            "Cost after epoch 50: 0.519973\n",
            "Cost after epoch 60: 0.430012\n",
            "Cost after epoch 70: 0.399509\n",
            "Cost after epoch 80: 0.328203\n",
            "Cost after epoch 90: 0.305356\n",
            "Cost after epoch 100: 0.305271\n",
            "Cost after epoch 110: 0.247240\n",
            "Cost after epoch 120: 0.218910\n",
            "Cost after epoch 130: 0.229238\n",
            "Cost after epoch 140: 0.226616\n",
            "The learning rate is:  0.005\n",
            "Train accuracy is:  0.9425926\n",
            "Test accuracy is:  0.81666666\n"
          ],
          "name": "stdout"
        },
        {
          "output_type": "display_data",
          "data": {
            "image/png": "[encoded data removed]",
            "text/plain": [
              "<Figure size 432x288 with 1 Axes>"
            ]
          },
          "metadata": {
            "tags": []
          }
        }
      ]
    },
    {
      "cell_type": "markdown",
      "metadata": {
        "id": "aBt01nPhJE8S",
        "colab_type": "text"
      },
      "source": [
        "Careful with the indent for the if!! It's very confusing to see the empty plot. I would play a bit with the hyperparameters but this is not necessary. Plus it takes long to run.\n",
        "\n",
        "Just to summarize:\n",
        "\n",
        "\n",
        "\n",
        "1.   Learning rate of 5e-2 may be a bit too large. 5e-3 is OK I think.\n",
        "2.   Batch size of more than 64 may be a bit too large too.\n",
        "3.   Batch size of 1 (SGD) is slow\n",
        "4.   150 epochs should be ok. Tuning the learning rate I may be able to get a better acuracy.\n",
        "\n",
        "\n",
        "\n"
      ]
    }
  ]
}